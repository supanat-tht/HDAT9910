{
  "nbformat": 4,
  "nbformat_minor": 0,
  "metadata": {
    "colab": {
      "provenance": [],
      "authorship_tag": "ABX9TyNWMm2GwQwgzB90zg1y92wA",
      "include_colab_link": true
    },
    "kernelspec": {
      "name": "python3",
      "display_name": "Python 3"
    },
    "language_info": {
      "name": "python"
    }
  },
  "cells": [
    {
      "cell_type": "markdown",
      "metadata": {
        "id": "view-in-github",
        "colab_type": "text"
      },
      "source": [
        "<a href=\"https://colab.research.google.com/github/supanat-tht/HDAT9910/blob/main/HDAT9910_main.ipynb\" target=\"_parent\"><img src=\"https://colab.research.google.com/assets/colab-badge.svg\" alt=\"Open In Colab\"/></a>"
      ]
    },
    {
      "cell_type": "markdown",
      "source": [
        "# HDAT 9910 Capstone Project"
      ],
      "metadata": {
        "id": "7PinlQPp_kJl"
      }
    },
    {
      "cell_type": "markdown",
      "source": [
        "**Authors**: Supanat Thitipatarakorn\n",
        "\n",
        "**zID**: z5383184\n",
        "\n",
        "**Creation date**: 22 February 2024\n",
        "\n",
        "**Purpose of this notebook**: To demonstrate data mingling of MIMIC-III data and answer two research questions: 1) mortality prediction in ICU and 2) weekend effect in ICU."
      ],
      "metadata": {
        "id": "KY5WnLXI-PTv"
      }
    },
    {
      "cell_type": "markdown",
      "source": [
        "---\n",
        "## Introduction"
      ],
      "metadata": {
        "id": "MCJDed2LAQPM"
      }
    },
    {
      "cell_type": "markdown",
      "source": [
        "Here are some suggested grammar corrections for the given text:\n",
        "\n",
        "Patients admitted to hospitals are sent to the appropriate wards depending on their conditions. Patients with critical conditions in need of close monitoring and medical care will be admitted or transferred to intensive care units (ICUs). Because of the nature of their conditions, patients in ICUs often have a higher mortality rate than patients in regular wards.\n",
        "\n",
        "MIMIC-III is a large database containing deidentified health-related data associated with over forty thousand patients who stayed in the intensive care units of the Beth Israel Deaconess Medical Center in Boston, Massachusetts, between 2001 and 2012. The data was gathered from the Philips CareVue Clinical Information System and iMDsoft MetaVision ICU. MIMIC-III is available to researchers worldwide for data study including performing various data science tasks.\n",
        "\n",
        "This notebook aims to utilize data science procedures on the MIMIC-III data to 1) build a predictive algorithm based on data from the first 24 hours in the ICU and 2) to investigate whether admission to the ICU on weekends increases the risk of ICU mortality."
      ],
      "metadata": {
        "id": "ZCgs8ohWAXY3"
      }
    },
    {
      "cell_type": "markdown",
      "source": [
        "## Data Manipulation"
      ],
      "metadata": {
        "id": "oQ8Li6xtbYd7"
      }
    },
    {
      "cell_type": "markdown",
      "source": [
        "### Setup"
      ],
      "metadata": {
        "id": "F1zECdpwghX7"
      }
    },
    {
      "cell_type": "code",
      "source": [
        "# Autosave every 60 minutes\n",
        "%autosave 60"
      ],
      "metadata": {
        "colab": {
          "base_uri": "https://localhost:8080/",
          "height": 34
        },
        "id": "i350Q9A6fyYB",
        "outputId": "e59d2b0f-7b46-40dd-fd12-5272c0486a49"
      },
      "execution_count": 1,
      "outputs": [
        {
          "output_type": "display_data",
          "data": {
            "application/javascript": [
              "IPython.notebook.set_autosave_interval(60000)"
            ]
          },
          "metadata": {}
        },
        {
          "output_type": "stream",
          "name": "stdout",
          "text": [
            "Autosaving every 60 seconds\n"
          ]
        }
      ]
    },
    {
      "cell_type": "code",
      "source": [
        "# Check required libraries are installed if not calling system to install\n",
        "import sys\n",
        "import subprocess\n",
        "import pkg_resources\n",
        "\n",
        "required = {'numpy', 'pandas', 'plotnine', 'matplotlib', 'seaborn',\n",
        "            'grid', 'shap', 'scikit-learn'}\n",
        "installed = {pkg.key for pkg in pkg_resources.working_set}\n",
        "missing = required - installed\n",
        "\n",
        "if missing:\n",
        "    print('Installing: ', missing)\n",
        "    python = sys.executable\n",
        "    subprocess.check_call([python, '-m', 'pip', 'install', *missing], stdout=subprocess.DEVNULL)\n",
        "# Delete unwanted variables\n",
        "del required\n",
        "del installed\n",
        "del missing\n",
        "\n",
        "# Load the rpy2 package to use R alongside Python\n",
        "%load_ext rpy2.ipython"
      ],
      "metadata": {
        "id": "Syh18Umcf2M-"
      },
      "execution_count": 2,
      "outputs": []
    },
    {
      "cell_type": "code",
      "source": [
        "# Mount Google Drive\n",
        "\n",
        "if 'google.colab' in str(get_ipython()):\n",
        "    from google.colab import drive # import drive from Gogle colab\n",
        "    root = '/content/drive'     # default location for the drive\n",
        "    # print(root)                 # print content of ROOT (Optional)\n",
        "    drive.mount(root)\n",
        "else:\n",
        "    print('Not running on CoLab')"
      ],
      "metadata": {
        "colab": {
          "base_uri": "https://localhost:8080/"
        },
        "id": "If7Ad0URgISQ",
        "outputId": "2364f9b9-71c1-4715-ed8e-52aecef37938"
      },
      "execution_count": 3,
      "outputs": [
        {
          "output_type": "stream",
          "name": "stdout",
          "text": [
            "Drive already mounted at /content/drive; to attempt to forcibly remount, call drive.mount(\"/content/drive\", force_remount=True).\n"
          ]
        }
      ]
    },
    {
      "cell_type": "code",
      "source": [
        "# Assign the project path\n",
        "\n",
        "from pathlib import Path\n",
        "\n",
        "if 'google.colab' in str(get_ipython()):\n",
        "    project_path = Path(root) / 'MyDrive' / 'HDAT9910'\n",
        "else:\n",
        "    project_path = Path()"
      ],
      "metadata": {
        "id": "_VSzbIG-gPae"
      },
      "execution_count": 4,
      "outputs": []
    },
    {
      "cell_type": "markdown",
      "source": [
        "---\n",
        "### Visualize the raw data"
      ],
      "metadata": {
        "id": "Al7t97WDgkkj"
      }
    },
    {
      "cell_type": "code",
      "source": [
        "%%R\n",
        "\n",
        "# Load libraries\n",
        "library(dplyr)\n",
        "library(ggplot2)\n",
        "library(tidyr)\n",
        "library(purrr)\n",
        "install.packages(\"Hmisc\")\n",
        "\n",
        "\n",
        "# Set working directory\n",
        "setwd('/content/drive/MyDrive/HDAT9910/mimic_data/')"
      ],
      "metadata": {
        "id": "Uu0ku315f53s",
        "colab": {
          "base_uri": "https://localhost:8080/"
        },
        "outputId": "9d0c0d49-fadb-4c74-f780-02be3dcdf284"
      },
      "execution_count": 5,
      "outputs": [
        {
          "output_type": "stream",
          "name": "stderr",
          "text": [
            "WARNING:rpy2.rinterface_lib.callbacks:R[write to console]: \n",
            "Attaching package: ‘dplyr’\n",
            "\n",
            "\n",
            "WARNING:rpy2.rinterface_lib.callbacks:R[write to console]: The following objects are masked from ‘package:stats’:\n",
            "\n",
            "    filter, lag\n",
            "\n",
            "\n",
            "WARNING:rpy2.rinterface_lib.callbacks:R[write to console]: The following objects are masked from ‘package:base’:\n",
            "\n",
            "    intersect, setdiff, setequal, union\n",
            "\n",
            "\n"
          ]
        }
      ]
    },
    {
      "cell_type": "code",
      "source": [
        "%%R\n",
        "\n",
        "# Load all files and assign file names to variable names\n",
        "file_list <- c(\"admissions\", \"antibiotics\")\n",
        "for (i in 1:length(file_list)){\n",
        "    file_name <- paste0(file_list[i], \".csv\")\n",
        "    assign(file_list[i], read.csv(file_name))\n",
        "}"
      ],
      "metadata": {
        "id": "B_9HrPkpTcu7"
      },
      "execution_count": 17,
      "outputs": []
    },
    {
      "cell_type": "code",
      "source": [
        "%%R\n",
        "\n",
        "# Overview of the file\n",
        "Hmisc::describe(admissions)"
      ],
      "metadata": {
        "id": "UUyMhcLBlWQJ",
        "outputId": "97a461ea-a91b-4cf3-a1fd-92a6724326e5",
        "colab": {
          "base_uri": "https://localhost:8080/"
        }
      },
      "execution_count": 27,
      "outputs": [
        {
          "output_type": "stream",
          "name": "stdout",
          "text": [
            "admissions \n",
            "\n",
            " 19  Variables      58976  Observations\n",
            "--------------------------------------------------------------------------------\n",
            "row_id \n",
            "       n  missing distinct     Info     Mean      Gmd      .05      .10 \n",
            "   58976        0    58976        1    29488    19659     2950     5898 \n",
            "     .25      .50      .75      .90      .95 \n",
            "   14745    29488    44232    53078    56027 \n",
            "\n",
            "lowest :     1     2     3     4     5, highest: 58972 58973 58974 58975 58976\n",
            "--------------------------------------------------------------------------------\n",
            "subject_id \n",
            "       n  missing distinct     Info     Mean      Gmd      .05      .10 \n",
            "   58976        0    46520        1    33756    30622     2428     4870 \n",
            "     .25      .50      .75      .90      .95 \n",
            "   11994    24134    53852    81438    90856 \n",
            "\n",
            "lowest :     2     3     4     5     6, highest: 99985 99991 99992 99995 99999\n",
            "--------------------------------------------------------------------------------\n",
            "hadm_id \n",
            "       n  missing distinct     Info     Mean      Gmd      .05      .10 \n",
            "   58976        0    58976        1   149971    33352   104923   109956 \n",
            "     .25      .50      .75      .90      .95 \n",
            "  124953   149990   174966   190005   194937 \n",
            "\n",
            "lowest : 100001 100003 100006 100007 100009, highest: 199993 199994 199995 199998 199999\n",
            "--------------------------------------------------------------------------------\n",
            "admittime \n",
            "       n  missing distinct \n",
            "   58976        0    58651 \n",
            "\n",
            "lowest : 2100-06-07 19:59:00 2100-06-09 01:39:00 2100-06-14 04:55:00 2100-06-14 12:02:00 2100-06-22 03:04:00\n",
            "highest: 2208-08-19 07:15:00 2209-02-09 12:00:00 2209-07-14 21:35:00 2209-07-31 13:51:00 2210-08-17 17:13:00\n",
            "--------------------------------------------------------------------------------\n",
            "dischtime \n",
            "       n  missing distinct \n",
            "   58976        0    58657 \n",
            "\n",
            "lowest : 2100-06-09 17:09:00 2100-06-17 14:20:00 2100-06-19 08:15:00 2100-06-27 12:00:00 2100-06-30 11:35:00\n",
            "highest: 2208-08-25 14:59:00 2209-02-14 21:55:00 2209-07-15 17:20:00 2209-08-20 19:15:00 2210-08-24 19:43:00\n",
            "--------------------------------------------------------------------------------\n",
            "deathtime \n",
            "       n  missing distinct \n",
            "    5854    53122     5834 \n",
            "\n",
            "lowest : 2100-06-19 08:15:00 2100-07-21 10:34:00 2100-08-19 15:03:00 2100-08-30 09:25:00 2100-09-03 12:35:00\n",
            "highest: 2205-10-28 10:00:00 2206-06-13 07:00:00 2206-10-20 10:27:00 2207-05-08 20:15:00 2208-02-05 11:45:00\n",
            "--------------------------------------------------------------------------------\n",
            "admission_type \n",
            "       n  missing distinct \n",
            "   58976        0        4 \n",
            "                                                  \n",
            "Value       ELECTIVE EMERGENCY   NEWBORN    URGENT\n",
            "Frequency       7706     42071      7863      1336\n",
            "Proportion     0.131     0.713     0.133     0.023\n",
            "--------------------------------------------------------------------------------\n",
            "admission_location \n",
            "       n  missing distinct \n",
            "   58976        0        9 \n",
            "\n",
            "lowest : ** INFO NOT AVAILABLE **  CLINIC REFERRAL/PREMATURE EMERGENCY ROOM ADMIT      HMO REFERRAL/SICK         PHYS REFERRAL/NORMAL DELI\n",
            "highest: PHYS REFERRAL/NORMAL DELI TRANSFER FROM HOSP/EXTRAM TRANSFER FROM OTHER HEALT TRANSFER FROM SKILLED NUR TRSF WITHIN THIS FACILITY\n",
            "--------------------------------------------------------------------------------\n",
            "discharge_location \n",
            "       n  missing distinct \n",
            "   58976        0       17 \n",
            "\n",
            "lowest : DEAD/EXPIRED              DISC-TRAN CANCER/CHLDRN H DISC-TRAN TO FEDERAL HC   DISCH-TRAN TO PSYCH HOSP  HOME                     \n",
            "highest: OTHER FACILITY            REHAB/DISTINCT PART HOSP  SHORT TERM HOSPITAL       SNF                       SNF-MEDICAID ONLY CERTIF \n",
            "--------------------------------------------------------------------------------\n",
            "insurance \n",
            "       n  missing distinct \n",
            "   58976        0        5 \n",
            "                                                                 \n",
            "Value      Government   Medicaid   Medicare    Private   Self Pay\n",
            "Frequency        1783       5785      28215      22582        611\n",
            "Proportion      0.030      0.098      0.478      0.383      0.010\n",
            "--------------------------------------------------------------------------------\n",
            "language \n",
            "       n  missing distinct \n",
            "   33644    25332       75 \n",
            "\n",
            "lowest : * BE * FU ** T **SH **TO, highest: TAGA THAI TURK URDU VIET\n",
            "--------------------------------------------------------------------------------\n",
            "religion \n",
            "       n  missing distinct \n",
            "   58518      458       20 \n",
            "\n",
            "lowest : 7TH DAY ADVENTIST      BAPTIST                BUDDHIST               CATHOLIC               CHRISTIAN SCIENTIST   \n",
            "highest: OTHER                  PROTESTANT QUAKER      ROMANIAN EAST. ORTH    UNITARIAN-UNIVERSALIST UNOBTAINABLE          \n",
            "--------------------------------------------------------------------------------\n",
            "marital_status \n",
            "       n  missing distinct \n",
            "   48848    10128        7 \n",
            "\n",
            "DIVORCED (3213, 0.066), LIFE PARTNER (15, 0.000), MARRIED (24239, 0.496),\n",
            "SEPARATED (571, 0.012), SINGLE (13254, 0.271), UNKNOWN (DEFAULT) (345, 0.007),\n",
            "WIDOWED (7211, 0.148)\n",
            "--------------------------------------------------------------------------------\n",
            "ethnicity \n",
            "       n  missing distinct \n",
            "   58976        0       41 \n",
            "\n",
            "lowest : AMERICAN INDIAN/ALASKA NATIVE                            AMERICAN INDIAN/ALASKA NATIVE FEDERALLY RECOGNIZED TRIBE ASIAN                                                    ASIAN - ASIAN INDIAN                                     ASIAN - CAMBODIAN                                       \n",
            "highest: WHITE                                                    WHITE - BRAZILIAN                                        WHITE - EASTERN EUROPEAN                                 WHITE - OTHER EUROPEAN                                   WHITE - RUSSIAN                                         \n",
            "--------------------------------------------------------------------------------\n",
            "edregtime \n",
            "       n  missing distinct \n",
            "   30877    28099    30874 \n",
            "\n",
            "lowest : 2100-06-07 13:14:00 2100-06-08 23:29:00 2100-06-14 03:15:00 2100-06-14 08:36:00 2100-06-21 23:26:00\n",
            "highest: 2208-04-27 11:54:00 2208-04-29 13:42:00 2208-05-27 00:40:00 2209-07-31 09:43:00 2210-08-17 10:14:00\n",
            "--------------------------------------------------------------------------------\n",
            "edouttime \n",
            "       n  missing distinct \n",
            "   30877    28099    30864 \n",
            "\n",
            "lowest : 2100-06-08 00:06:00 2100-06-09 02:34:00 2100-06-14 05:22:00 2100-06-14 15:25:00 2100-06-22 08:00:00\n",
            "highest: 2208-04-27 23:16:00 2208-04-29 15:48:00 2208-05-27 04:01:00 2209-07-31 15:16:00 2210-08-17 18:25:00\n",
            "--------------------------------------------------------------------------------\n",
            "diagnosis \n",
            "       n  missing distinct \n",
            "   58951       25    15691 \n",
            "\n",
            "lowest :         MITRAL STENOSIS\\MITRAL VALVE REPLACEMENT /SDA    DUODENAL MASS/SDA                                    ? SEROTONIN SYNDROME                                   ABDOMINAL AORTIC ANEURYSM/SDA                          ABSENCE/SDA                                          \n",
            "highest: WOUND ULCER                                            ZENKER'S DIVERTICULUM/SDA                              ZONE 2 NECK INJURY                                     ZOSTER VS. MENINGITIS                                  ZYGOMATIC FRACTURE LEFT                               \n",
            "--------------------------------------------------------------------------------\n",
            "hospital_expire_flag \n",
            "       n  missing distinct     Info      Sum     Mean      Gmd \n",
            "   58976        0        2    0.268     5854  0.09926   0.1788 \n",
            "\n",
            "--------------------------------------------------------------------------------\n",
            "has_chartevents_data \n",
            "       n  missing distinct     Info      Sum     Mean      Gmd \n",
            "   58976        0        2    0.079    57384    0.973  0.05253 \n",
            "\n",
            "--------------------------------------------------------------------------------\n"
          ]
        }
      ]
    },
    {
      "cell_type": "markdown",
      "source": [],
      "metadata": {
        "id": "OFjQD4TEb0NK"
      }
    }
  ]
}