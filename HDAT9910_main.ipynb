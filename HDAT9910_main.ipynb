{
  "cells": [
    {
      "cell_type": "markdown",
      "metadata": {
        "id": "view-in-github",
        "colab_type": "text"
      },
      "source": [
        "<a href=\"https://colab.research.google.com/github/supanat-tht/HDAT9910/blob/main/HDAT9910_main.ipynb\" target=\"_parent\"><img src=\"https://colab.research.google.com/assets/colab-badge.svg\" alt=\"Open In Colab\"/></a>"
      ]
    },
    {
      "cell_type": "markdown",
      "metadata": {
        "id": "7PinlQPp_kJl"
      },
      "source": [
        "# HDAT 9910 Capstone Project"
      ]
    },
    {
      "cell_type": "markdown",
      "metadata": {
        "id": "KY5WnLXI-PTv"
      },
      "source": [
        "**Authors**: Supanat Thitipatarakorn\n",
        "\n",
        "**zID**: z5383184\n",
        "\n",
        "**Creation date**: 22 February 2024\n",
        "\n",
        "**Purpose of this notebook**: To demonstrate data mingling of MIMIC-III data and answer two research questions: 1) mortality prediction in ICU and 2) weekend effect in ICU."
      ]
    },
    {
      "cell_type": "markdown",
      "metadata": {
        "id": "MCJDed2LAQPM"
      },
      "source": [
        "---\n",
        "## Introduction"
      ]
    },
    {
      "cell_type": "markdown",
      "metadata": {
        "id": "ZCgs8ohWAXY3"
      },
      "source": [
        "Here are some suggested grammar corrections for the given text:\n",
        "\n",
        "Patients admitted to hospitals are sent to the appropriate wards depending on their conditions. Patients with critical conditions in need of close monitoring and medical care will be admitted or transferred to intensive care units (ICUs). Because of the nature of their conditions, patients in ICUs often have a higher mortality rate than patients in regular wards.\n",
        "\n",
        "MIMIC-III is a large database containing deidentified health-related data associated with over forty thousand patients who stayed in the intensive care units of the Beth Israel Deaconess Medical Center in Boston, Massachusetts, between 2001 and 2012. The data was gathered from the Philips CareVue Clinical Information System and iMDsoft MetaVision ICU. MIMIC-III is available to researchers worldwide for data study including performing various data science tasks.\n",
        "\n",
        "This notebook aims to utilize data science procedures on the MIMIC-III data to 1) build a predictive algorithm based on data from the first 24 hours in the ICU and 2) to investigate whether admission to the ICU on weekends increases the risk of ICU mortality."
      ]
    },
    {
      "cell_type": "markdown",
      "metadata": {
        "id": "oQ8Li6xtbYd7"
      },
      "source": [
        "## 1. Read and check the data. Prepare the data so they can be used by the algorithms."
      ]
    },
    {
      "cell_type": "markdown",
      "metadata": {
        "id": "F1zECdpwghX7"
      },
      "source": [
        "### Setup"
      ]
    },
    {
      "cell_type": "code",
      "execution_count": 1,
      "metadata": {
        "colab": {
          "base_uri": "https://localhost:8080/",
          "height": 34
        },
        "id": "i350Q9A6fyYB",
        "outputId": "c4a88248-4ccd-4917-e7bb-145baee778ae"
      },
      "outputs": [
        {
          "output_type": "display_data",
          "data": {
            "application/javascript": [
              "IPython.notebook.set_autosave_interval(60000)"
            ]
          },
          "metadata": {}
        },
        {
          "output_type": "stream",
          "name": "stdout",
          "text": [
            "Autosaving every 60 seconds\n"
          ]
        }
      ],
      "source": [
        "# Autosave every 60 minutes\n",
        "%autosave 60"
      ]
    },
    {
      "cell_type": "code",
      "execution_count": 2,
      "metadata": {
        "id": "Syh18Umcf2M-",
        "colab": {
          "base_uri": "https://localhost:8080/"
        },
        "outputId": "0082c2a6-f0e7-4e2e-eaf8-65f5b88613a2"
      },
      "outputs": [
        {
          "output_type": "stream",
          "name": "stdout",
          "text": [
            "Installing:  {'shap', 'grid'}\n"
          ]
        }
      ],
      "source": [
        "# Check required libraries are installed if not calling system to install\n",
        "import sys\n",
        "import subprocess\n",
        "import pkg_resources\n",
        "\n",
        "required = {'numpy', 'pandas', 'plotnine', 'matplotlib', 'seaborn',\n",
        "            'grid', 'shap', 'scikit-learn'}\n",
        "installed = {pkg.key for pkg in pkg_resources.working_set}\n",
        "missing = required - installed\n",
        "\n",
        "if missing:\n",
        "    print('Installing: ', missing)\n",
        "    python = sys.executable\n",
        "    subprocess.check_call([python, '-m', 'pip', 'install', *missing], stdout=subprocess.DEVNULL)\n",
        "# Delete unwanted variables\n",
        "del required\n",
        "del installed\n",
        "del missing\n",
        "\n",
        "# Load the rpy2 package to use R alongside Python\n",
        "%load_ext rpy2.ipython"
      ]
    },
    {
      "cell_type": "code",
      "execution_count": 3,
      "metadata": {
        "colab": {
          "base_uri": "https://localhost:8080/"
        },
        "id": "If7Ad0URgISQ",
        "outputId": "32360f31-39c2-4be7-c80e-69670a60888c"
      },
      "outputs": [
        {
          "output_type": "stream",
          "name": "stdout",
          "text": [
            "Mounted at /content/drive\n"
          ]
        }
      ],
      "source": [
        "# Mount Google Drive\n",
        "\n",
        "if 'google.colab' in str(get_ipython()):\n",
        "    from google.colab import drive # import drive from Gogle colab\n",
        "    root = '/content/drive'     # default location for the drive\n",
        "    # print(root)                 # print content of ROOT (Optional)\n",
        "    drive.mount(root)\n",
        "else:\n",
        "    print('Not running on CoLab')"
      ]
    },
    {
      "cell_type": "code",
      "execution_count": 4,
      "metadata": {
        "id": "_VSzbIG-gPae"
      },
      "outputs": [],
      "source": [
        "# Assign the project path\n",
        "\n",
        "from pathlib import Path\n",
        "\n",
        "if 'google.colab' in str(get_ipython()):\n",
        "    project_path = Path(root) / 'MyDrive' / 'HDAT9910'\n",
        "else:\n",
        "    project_path = Path()"
      ]
    },
    {
      "cell_type": "code",
      "source": [
        "# Function to plot the confusion matrix\n",
        "def plot_confusion_matrix(confusion_matrix):\n",
        "  # visualise the confusion matrix\n",
        "  labels = ['No', 'Yes']\n",
        "  ax = plt.subplot()\n",
        "  sns.heatmap(confusion_matrix, annot = True, fmt = '.0f', ax = ax, cmap = 'viridis')\n",
        "\n",
        "  # labels, titles and ticks\n",
        "  ax.set_xlabel('Predicted labels')\n",
        "  ax.set_ylabel('True labels')\n",
        "  ax.set_title('Confusion Matrix')\n",
        "  ax.xaxis.set_ticklabels(labels)\n",
        "  ax.yaxis.set_ticklabels(labels)"
      ],
      "metadata": {
        "id": "uKhpKyL9j1uk"
      },
      "execution_count": 5,
      "outputs": []
    },
    {
      "cell_type": "markdown",
      "source": [
        "## Load the data"
      ],
      "metadata": {
        "id": "g4YiObbsm7vb"
      }
    },
    {
      "cell_type": "code",
      "source": [
        "# Load the .csv file\n",
        "import pandas as pd\n",
        "alldata_q1 = pd.read_csv(Path(project_path) / 'alldata_q1.csv')\n",
        "\n",
        "# Display shape\n",
        "print(\"Shape:\", alldata_q1.shape)"
      ],
      "metadata": {
        "colab": {
          "base_uri": "https://localhost:8080/"
        },
        "id": "2W3Ysl4ikU44",
        "outputId": "3a912c00-8f62-49dc-ecf8-7a97ce95b309"
      },
      "execution_count": 9,
      "outputs": [
        {
          "output_type": "stream",
          "name": "stdout",
          "text": [
            "Shape: (32556, 59)\n"
          ]
        }
      ]
    },
    {
      "cell_type": "code",
      "source": [
        "# Set the display rows to unlimited\n",
        "import pandas as pd\n",
        "pd.set_option(\"display.max_rows\", None)\n",
        "\n",
        "# Check features:\n",
        "alldata_q1.apply(lambda c: c.value_counts(dropna=False).to_dict())"
      ],
      "metadata": {
        "colab": {
          "base_uri": "https://localhost:8080/"
        },
        "id": "ERXJWYChlTF5",
        "outputId": "c4000135-7c92-4b71-c28a-1ee43f9a6fb4"
      },
      "execution_count": 10,
      "outputs": [
        {
          "output_type": "execute_result",
          "data": {
            "text/plain": [
              "age_years                           {91.4: 1621, 78.0: 761, 77.0: 756, 76.0: 719, ...\n",
              "icu_expire_flag_2                                                 {0: 29994, 1: 2562}\n",
              "weekend                                                           {0: 26817, 1: 5739}\n",
              "genderF                                                          {0: 18499, 1: 14057}\n",
              "genderM                                                          {1: 18499, 0: 14057}\n",
              "admission_type_2ELECTIVE                                          {0: 27239, 1: 5317}\n",
              "admission_type_2EMERGENCY.URGENT                                  {1: 27239, 0: 5317}\n",
              "ethnicity_2BLACK                                                  {0: 30104, 1: 2452}\n",
              "ethnicity_2OTHER.UNKNOWN                                          {0: 25675, 1: 6881}\n",
              "ethnicity_2WHITE                                                  {1: 23223, 0: 9333}\n",
              "first_careunitCCU                                                 {0: 27804, 1: 4752}\n",
              "first_careunitCSRU                                                {0: 25593, 1: 6963}\n",
              "first_careunitMICU                                               {0: 21346, 1: 11210}\n",
              "first_careunitSICU                                                {0: 27210, 1: 5346}\n",
              "first_careunitTSICU                                               {0: 28271, 1: 4285}\n",
              "spo2_min                            {94.0: 3615, 95.0: 3524, 93.0: 3475, 96.0: 292...\n",
              "temperature_min                     {36.1111111111111: 1576, 36.1666666666667: 135...\n",
              "resprate_min                        {12.0: 4061, 14.0: 3406, 10.0: 2859, 13.0: 275...\n",
              "heartrate_min                       {71.0: 1168, 60.0: 980, 70.0: 962, 69.0: 850, ...\n",
              "sysbp_min                           {94.0: 1285, 90.0: 1059, 91.0: 1007, 92.0: 912...\n",
              "diasbp_min                          {46.0: 1543, 45.0: 1178, 47.0: 1129, 50.0: 110...\n",
              "glucose_min.x                       {103.0: 915, 99.0: 497, 88.0: 494, 91.0: 490, ...\n",
              "meanarterialpressure_min            {61.0: 1418, 60.0: 1080, 59.0: 1031, 62.0: 101...\n",
              "spo2_max                            {100.0: 25476, 99.0: 3088, 99.8000030517578: 3...\n",
              "temperature_max                     {37.5: 1902, 37.2222222222222: 814, 36.6666666...\n",
              "resprate_max                        {25.0: 2625, 24.0: 2497, 22.0: 2280, 23.0: 221...\n",
              "heartrate_max                       {100.0: 1045, 90.0: 731, 88.0: 705, 97.0: 641,...\n",
              "sysbp_max                           {135.0: 563, 137.0: 560, 139.0: 551, 144.0: 53...\n",
              "diasbp_max                          {77.0: 1088, 73.0: 769, 72.0: 750, 74.0: 745, ...\n",
              "glucose_max.x                       {159.0: 676, 140.0: 283, 155.0: 278, 150.0: 27...\n",
              "meanarterialpressure_max            {95.0: 664, 94.0: 659, 93.0: 656, 91.0: 634, 9...\n",
              "whitebloodcell_min                  {10.1: 1303, 8.8: 351, 9.1: 325, 9.4: 323, 9.5...\n",
              "bicarbonate_min                     {23.0: 4335, 24.0: 3474, 22.0: 3127, 25.0: 312...\n",
              "bloodureanitrogen_min               {17.0: 1901, 12.0: 1686, 13.0: 1658, 11.0: 165...\n",
              "creatinine_min                      {0.7: 4245, 0.8: 4052, 0.9: 4007, 0.6: 3454, 1...\n",
              "hemoglobin_min                      {10.2: 1509, 9.4: 625, 9.7: 623, 10.0: 607, 9....\n",
              "platelets_min                       {185.0: 1054, 188.0: 174, 174.0: 171, 182.0: 1...\n",
              "chloride_min                        {105.0: 3450, 106.0: 2787, 107.0: 2559, 104.0:...\n",
              "sodium_min                          {138.0: 4578, 139.0: 3552, 137.0: 3306, 140.0:...\n",
              "hematocrit_min                      {30.1: 953, 28.9: 242, 28.7: 233, 27.9: 230, 2...\n",
              "whitebloodcell_max                  {11.8: 1259, 9.7: 281, 9.0: 278, 9.5: 271, 10....\n",
              "bicarbonate_max                     {24.0: 4535, 25.0: 3819, 26.0: 3387, 23.0: 336...\n",
              "bloodureanitrogen_max               {18.0: 1932, 15.0: 1577, 12.0: 1543, 13.0: 153...\n",
              "creatinine_max                      {0.9: 4207, 0.8: 3929, 0.7: 3715, 1.0: 2748, 0...\n",
              "hemoglobin_max                      {11.2: 1628, 10.7: 743, 11.0: 736, 10.8: 709, ...\n",
              "platelets_max                       {206.0: 1070, 197.0: 183, 190.0: 182, 188.0: 1...\n",
              "chloride_max                        {107.0: 3155, 106.0: 2338, 108.0: 2322, 109.0:...\n",
              "sodium_max                          {140.0: 4615, 139.0: 3508, 141.0: 3360, 138.0:...\n",
              "hematocrit_max                      {33.0: 1013, 32.5: 286, 32.0: 286, 31.1: 285, ...\n",
              "gcs_min                             {15: 9369, 2: 7829, 14: 3716, 9: 2088, 6: 1632...\n",
              "gcs_max                             {15: 23045, 10: 2000, 9: 1834, 14: 1739, 8: 73...\n",
              "endotrachflag                                                     {0: 23932, 1: 8624}\n",
              "weight                              {78.0999984741211: 2259, 70.0: 474, 80.0: 423,...\n",
              "antibiotics_24hr                                                  {0: 25151, 1: 7405}\n",
              "norepinephrine_24hr                                               {0: 31029, 1: 1527}\n",
              "epinephrine_24hr                                                  {0: 31357, 1: 1199}\n",
              "dopamine_24hr                                                     {0: 30935, 1: 1621}\n",
              "dobutamine_24hr                                                    {0: 32108, 1: 448}\n",
              "mechvent_24hr                                                     {0: 25466, 1: 7090}\n",
              "dtype: object"
            ]
          },
          "metadata": {},
          "execution_count": 10
        }
      ]
    },
    {
      "cell_type": "markdown",
      "source": [
        "### Split the features and the target"
      ],
      "metadata": {
        "id": "sHony8JWm-MV"
      }
    },
    {
      "cell_type": "code",
      "source": [
        "# Split the data set into two DataFrames: the features, stored in X, and the target, stored in y.\n",
        "X = alldata_q1.drop(['icu_expire_flag_2'], axis = 1)\n",
        "y = alldata_q1[['icu_expire_flag_2']].values.ravel()"
      ],
      "metadata": {
        "id": "rc2VtWGnme3q"
      },
      "execution_count": 18,
      "outputs": []
    },
    {
      "cell_type": "markdown",
      "source": [
        "### Train-test split"
      ],
      "metadata": {
        "id": "G9b70yufnOf2"
      }
    },
    {
      "cell_type": "code",
      "source": [
        "# Import train_test_split function\n",
        "from sklearn.model_selection import train_test_split\n",
        "# Split X and y into 80% train and 20% test data, set random state = 42 and stratify responses\n",
        "X_train, X_test, y_train, y_test = train_test_split(X, y, test_size=0.2, random_state=42, stratify = y)"
      ],
      "metadata": {
        "id": "gJaeUqUNnRe2"
      },
      "execution_count": 15,
      "outputs": []
    },
    {
      "cell_type": "markdown",
      "source": [
        "---\n",
        "## Logistic Regression model"
      ],
      "metadata": {
        "id": "o_ziHumPozoF"
      }
    },
    {
      "cell_type": "markdown",
      "source": [
        "### Training and hyperparameter tuning of the Logistic Regression model"
      ],
      "metadata": {
        "id": "rKHMn_i0rCw_"
      }
    },
    {
      "cell_type": "code",
      "source": [
        "# Import the standard scaler function\n",
        "from sklearn.preprocessing import StandardScaler\n",
        "# Import the logistic regression model\n",
        "from sklearn.linear_model import LogisticRegression\n",
        "# Import the pipeline function\n",
        "from sklearn.pipeline import Pipeline\n",
        "\n",
        "\n",
        "# Scaler object\n",
        "standard_scaler = StandardScaler()\n",
        "\n",
        "# Classifcaiton model\n",
        "log_reg = LogisticRegression(solver='liblinear', random_state=0)\n",
        "\n",
        "# Pipeline\n",
        "pipeln = Pipeline([('Transform', standard_scaler), ('Estimator', log_reg)])\n",
        "\n",
        "# Defining the hyper-parameters grid:\n",
        "# I weight Class 1 more than Class 0 because Class 1 is less frequent than Class 0 in the data set.\n",
        "param_grid_LR = {'Estimator__C': [10, 100],\n",
        "              'Estimator__class_weight': [{0:0.2, 1:0.8}, {0:0.3, 1:0.7}],\n",
        "              'Estimator__penalty': ['l1', 'l2']}"
      ],
      "metadata": {
        "id": "BRJZ8w7bo6zM"
      },
      "execution_count": 16,
      "outputs": []
    },
    {
      "cell_type": "code",
      "source": [
        "# Import the grid search CV class\n",
        "from sklearn.model_selection import GridSearchCV\n",
        "\n",
        "# Grid search CV object\n",
        "# Specify cv = 3 for 3-fold cross-validation. F1 score is chosen because this is an imbalanced data set.\n",
        "grid_search_LR = GridSearchCV(pipeln, param_grid_LR, cv = 3, scoring='f1', n_jobs=-1)\n",
        "\n",
        "# Fit the model\n",
        "grid_search_LR.fit(X_train, y_train)\n",
        "\n",
        "# Display the best hyperparameters and F1 score\n",
        "print(\"Best hyper-parameters: {}\".format(grid_search_LR.best_params_))\n",
        "print(\"Best cross-validation (F1) score: {:.4f}\".format(grid_search_LR.best_score_))"
      ],
      "metadata": {
        "colab": {
          "base_uri": "https://localhost:8080/"
        },
        "id": "8qO5EuO9pnWH",
        "outputId": "e7a49048-1f4c-4207-dfc1-b15e6fe2c6be"
      },
      "execution_count": 17,
      "outputs": [
        {
          "output_type": "stream",
          "name": "stderr",
          "text": [
            "/usr/local/lib/python3.10/dist-packages/sklearn/utils/validation.py:1143: DataConversionWarning: A column-vector y was passed when a 1d array was expected. Please change the shape of y to (n_samples, ), for example using ravel().\n",
            "  y = column_or_1d(y, warn=True)\n"
          ]
        },
        {
          "output_type": "stream",
          "name": "stdout",
          "text": [
            "Best hyper-parameters: {'Estimator__C': 100, 'Estimator__class_weight': {0: 0.2, 1: 0.8}, 'Estimator__penalty': 'l2'}\n",
            "Best cross-validation (F1) score: 0.4861\n"
          ]
        }
      ]
    },
    {
      "cell_type": "markdown",
      "source": [
        "### Evaluation of the Logistic Regression model on the training and test sets"
      ],
      "metadata": {
        "id": "uhez_AWorHNa"
      }
    },
    {
      "cell_type": "code",
      "source": [
        "# Python code here (10 lines limit, and 2 cells limit)\n",
        "# Import evaluation metrics\n",
        "from sklearn.metrics import confusion_matrix\n",
        "from sklearn.metrics import classification_report\n",
        "\n",
        "# Import visualization packages\n",
        "import seaborn as sns\n",
        "import matplotlib.pyplot as plt\n",
        "\n",
        "# Generate predictions for test data based on the model with best parameters generated by GridSearchCV\n",
        "y_pred_grid_search_LR = grid_search_LR.predict(X_test)\n",
        "\n",
        "# Generate confusion matrix for evaluation\n",
        "confusion_LR = confusion_matrix(y_test, y_pred_grid_search_LR)\n",
        "\n",
        "# Use the function plot_confusion_matrix(confusion_matrix)\n",
        "plot_confusion_matrix(confusion_LR)\n",
        "\n",
        "# Classification report\n",
        "print(\"Classification report:\")\n",
        "print(classification_report(y_test, y_pred_grid_search_LR))"
      ],
      "metadata": {
        "colab": {
          "base_uri": "https://localhost:8080/",
          "height": 642
        },
        "id": "5fdaJEWArI4r",
        "outputId": "80ca32ef-20f5-47fd-942b-58f836287da1"
      },
      "execution_count": 20,
      "outputs": [
        {
          "output_type": "stream",
          "name": "stdout",
          "text": [
            "Classification report:\n",
            "              precision    recall  f1-score   support\n",
            "\n",
            "           0       0.97      0.92      0.94      6000\n",
            "           1       0.40      0.61      0.49       512\n",
            "\n",
            "    accuracy                           0.90      6512\n",
            "   macro avg       0.68      0.77      0.72      6512\n",
            "weighted avg       0.92      0.90      0.91      6512\n",
            "\n"
          ]
        },
        {
          "output_type": "display_data",
          "data": {
            "text/plain": [
              "<Figure size 640x480 with 2 Axes>"
            ],
            "image/png": "[encoded data removed]"
          },
          "metadata": {}
        }
      ]
    },
    {
      "cell_type": "markdown",
      "metadata": {
        "id": "Al7t97WDgkkj"
      },
      "source": [
        "---\n",
        "## Random Forest model"
      ]
    },
    {
      "cell_type": "markdown",
      "source": [
        "### Training and hyperparameter tuning of the Random Forest model"
      ],
      "metadata": {
        "id": "Vf-RVtQSrfqm"
      }
    },
    {
      "cell_type": "code",
      "source": [
        "# Ignore warnings and import Random Forest Classifier\n",
        "import warnings; warnings.simplefilter('ignore')\n",
        "from sklearn.ensemble import RandomForestClassifier\n",
        "\n",
        "# Define the model\n",
        "random_forest = RandomForestClassifier(random_state=0)\n",
        "\n",
        "# Defining the hyper-parameters grid:\n",
        "# I weight Class 1 more than Class 0 because Class 1 is less frequent than Class 0 in the data set.\n",
        "param_grid_RF = {'n_estimators': [150, 200],\n",
        "                 'class_weight': [{0:0.2, 1:0.8}, {0:0.3, 1:0.7}],\n",
        "                 'max_features': [20, 30],\n",
        "                 'min_samples_split': [20, 25]}"
      ],
      "metadata": {
        "id": "yQGrXRyFrnD-"
      },
      "execution_count": 21,
      "outputs": []
    },
    {
      "cell_type": "code",
      "source": [
        "# Grid search CV object\n",
        "# Specify cv = 3 for 3-fold cross-validation. F1 score is chosen because this is an imbalanced data set.\n",
        "grid_search_RF = GridSearchCV(random_forest, param_grid_RF, cv = 3, scoring='f1', n_jobs=-1)\n",
        "\n",
        "# Fit the model\n",
        "grid_search_RF.fit(X_train, y_train)\n",
        "\n",
        "# Display the best hyperparameters and F1 score\n",
        "print(\"Best hyper-parameters: {}\".format(grid_search_RF.best_params_))\n",
        "print(\"Best cross-validation (F1) score: {:.4f}\".format(grid_search_RF.best_score_))"
      ],
      "metadata": {
        "id": "oNX53o84rzD8"
      },
      "execution_count": null,
      "outputs": []
    },
    {
      "cell_type": "markdown",
      "metadata": {
        "id": "OFjQD4TEb0NK"
      },
      "source": []
    }
  ],
  "metadata": {
    "colab": {
      "provenance": [],
      "authorship_tag": "ABX9TyP/6LwbVSFZmCOabgoqKMqD",
      "include_colab_link": true
    },
    "kernelspec": {
      "display_name": "Python 3",
      "name": "python3"
    },
    "language_info": {
      "name": "python"
    }
  },
  "nbformat": 4,
  "nbformat_minor": 0
}