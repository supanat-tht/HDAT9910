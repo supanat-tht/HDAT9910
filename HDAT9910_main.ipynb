{
  "nbformat": 4,
  "nbformat_minor": 0,
  "metadata": {
    "colab": {
      "provenance": [],
      "authorship_tag": "ABX9TyN/S0yDLmqK4uAhhBw+FHuu",
      "include_colab_link": true
    },
    "kernelspec": {
      "name": "python3",
      "display_name": "Python 3"
    },
    "language_info": {
      "name": "python"
    }
  },
  "cells": [
    {
      "cell_type": "markdown",
      "metadata": {
        "id": "view-in-github",
        "colab_type": "text"
      },
      "source": [
        "<a href=\"https://colab.research.google.com/github/supanat-tht/HDAT9910/blob/main/HDAT9910_main.ipynb\" target=\"_parent\"><img src=\"https://colab.research.google.com/assets/colab-badge.svg\" alt=\"Open In Colab\"/></a>"
      ]
    },
    {
      "cell_type": "markdown",
      "source": [
        "# HDAT 9910 Capstone Project"
      ],
      "metadata": {
        "id": "7PinlQPp_kJl"
      }
    },
    {
      "cell_type": "markdown",
      "source": [
        "**Authors**: Supanat Thitipatarakorn\n",
        "\n",
        "**zID**: z5383184\n",
        "\n",
        "**Creation date**: 22 February 2024\n",
        "\n",
        "**Purpose of this notebook**: To demonstrate data mingling of MIMIC-III data and answer two research questions: 1) mortality prediction in ICU and 2) weekend effect in ICU."
      ],
      "metadata": {
        "id": "KY5WnLXI-PTv"
      }
    },
    {
      "cell_type": "markdown",
      "source": [
        "---\n",
        "## Introduction"
      ],
      "metadata": {
        "id": "MCJDed2LAQPM"
      }
    },
    {
      "cell_type": "markdown",
      "source": [
        "Here are some suggested grammar corrections for the given text:\n",
        "\n",
        "Patients admitted to hospitals are sent to the appropriate wards depending on their conditions. Patients with critical conditions in need of close monitoring and medical care will be admitted or transferred to intensive care units (ICUs). Because of the nature of their conditions, patients in ICUs often have a higher mortality rate than patients in regular wards.\n",
        "\n",
        "MIMIC-III is a large database containing deidentified health-related data associated with over forty thousand patients who stayed in the intensive care units of the Beth Israel Deaconess Medical Center in Boston, Massachusetts, between 2001 and 2012. The data was gathered from the Philips CareVue Clinical Information System and iMDsoft MetaVision ICU. MIMIC-III is available to researchers worldwide for data study including performing various data science tasks.\n",
        "\n",
        "This notebook aims to utilize data science procedures on the MIMIC-III data to 1) build a predictive algorithm based on data from the first 24 hours in the ICU and 2) to investigate whether admission to the ICU on weekends increases the risk of ICU mortality."
      ],
      "metadata": {
        "id": "ZCgs8ohWAXY3"
      }
    },
    {
      "cell_type": "markdown",
      "source": [
        "## Data Manipulation"
      ],
      "metadata": {
        "id": "oQ8Li6xtbYd7"
      }
    },
    {
      "cell_type": "markdown",
      "source": [
        "### Setup"
      ],
      "metadata": {
        "id": "F1zECdpwghX7"
      }
    },
    {
      "cell_type": "code",
      "source": [
        "# Autosave every 60 minutes\n",
        "%autosave 60"
      ],
      "metadata": {
        "colab": {
          "base_uri": "https://localhost:8080/",
          "height": 34
        },
        "id": "i350Q9A6fyYB",
        "outputId": "2f261735-e0fb-425c-d6a5-9da2ef17df15"
      },
      "execution_count": 1,
      "outputs": [
        {
          "output_type": "display_data",
          "data": {
            "application/javascript": [
              "IPython.notebook.set_autosave_interval(60000)"
            ]
          },
          "metadata": {}
        },
        {
          "output_type": "stream",
          "name": "stdout",
          "text": [
            "Autosaving every 60 seconds\n"
          ]
        }
      ]
    },
    {
      "cell_type": "code",
      "source": [
        "# Check required libraries are installed if not calling system to install\n",
        "import sys\n",
        "import subprocess\n",
        "import pkg_resources\n",
        "\n",
        "required = {'numpy', 'pandas', 'plotnine', 'matplotlib', 'seaborn',\n",
        "            'grid', 'shap', 'scikit-learn'}\n",
        "installed = {pkg.key for pkg in pkg_resources.working_set}\n",
        "missing = required - installed\n",
        "\n",
        "if missing:\n",
        "    print('Installing: ', missing)\n",
        "    python = sys.executable\n",
        "    subprocess.check_call([python, '-m', 'pip', 'install', *missing], stdout=subprocess.DEVNULL)\n",
        "# Delete unwanted variables\n",
        "del required\n",
        "del installed\n",
        "del missing\n",
        "\n",
        "# Load the rpy2 package to use R alongside Python\n",
        "%load_ext rpy2.ipython"
      ],
      "metadata": {
        "id": "Syh18Umcf2M-",
        "colab": {
          "base_uri": "https://localhost:8080/"
        },
        "outputId": "c23f39a9-f47d-4d74-8700-1e2a7f47ca52"
      },
      "execution_count": 2,
      "outputs": [
        {
          "output_type": "stream",
          "name": "stdout",
          "text": [
            "Installing:  {'shap', 'grid'}\n"
          ]
        }
      ]
    },
    {
      "cell_type": "code",
      "source": [
        "# Mount Google Drive\n",
        "\n",
        "if 'google.colab' in str(get_ipython()):\n",
        "    from google.colab import drive # import drive from Gogle colab\n",
        "    root = '/content/drive'     # default location for the drive\n",
        "    # print(root)                 # print content of ROOT (Optional)\n",
        "    drive.mount(root)\n",
        "else:\n",
        "    print('Not running on CoLab')"
      ],
      "metadata": {
        "colab": {
          "base_uri": "https://localhost:8080/"
        },
        "id": "If7Ad0URgISQ",
        "outputId": "2c38db3b-6988-4ecc-d9f0-6944229f9418"
      },
      "execution_count": 3,
      "outputs": [
        {
          "output_type": "stream",
          "name": "stdout",
          "text": [
            "Mounted at /content/drive\n"
          ]
        }
      ]
    },
    {
      "cell_type": "code",
      "source": [
        "# Assign the project path\n",
        "\n",
        "from pathlib import Path\n",
        "\n",
        "if 'google.colab' in str(get_ipython()):\n",
        "    project_path = Path(root) / 'MyDrive' / 'HDAT9910'\n",
        "else:\n",
        "    project_path = Path()"
      ],
      "metadata": {
        "id": "_VSzbIG-gPae"
      },
      "execution_count": 4,
      "outputs": []
    },
    {
      "cell_type": "markdown",
      "source": [
        "---\n",
        "### Visualize the raw data"
      ],
      "metadata": {
        "id": "Al7t97WDgkkj"
      }
    },
    {
      "cell_type": "code",
      "source": [
        "%%R\n",
        "\n",
        "# Load libraries\n",
        "library(dplyr)\n",
        "library(ggplot2)\n",
        "library(tidyr)\n",
        "library(purrr)\n",
        "install.packages(\"Hmisc\")\n",
        "\n",
        "\n",
        "# Set working directory\n",
        "setwd('/content/drive/MyDrive/HDAT9910/mimic_data/')"
      ],
      "metadata": {
        "id": "Uu0ku315f53s"
      },
      "execution_count": null,
      "outputs": []
    },
    {
      "cell_type": "code",
      "source": [
        "%%R\n",
        "\n",
        "# Load all files and assign file names to variable names\n",
        "file_list <- c(\"patients\", \"pt_icu_outcome\")\n",
        "for (i in 1:length(file_list)){\n",
        "    file_name <- paste0(file_list[i], \".csv\")\n",
        "    read_file <- read.csv(file_name, na.strings=c(\"\"))\n",
        "    assign(file_list[i], read_file)\n",
        "}"
      ],
      "metadata": {
        "id": "B_9HrPkpTcu7"
      },
      "execution_count": 6,
      "outputs": []
    },
    {
      "cell_type": "code",
      "source": [
        "%%R\n",
        "\n",
        "# Overview of the file\n",
        "Hmisc::describe(patients)"
      ],
      "metadata": {
        "colab": {
          "base_uri": "https://localhost:8080/"
        },
        "id": "UUyMhcLBlWQJ",
        "outputId": "0eb45f03-377c-4971-c41e-f0afb85928b5"
      },
      "execution_count": 7,
      "outputs": [
        {
          "output_type": "stream",
          "name": "stdout",
          "text": [
            "patients \n",
            "\n",
            " 8  Variables      46520  Observations\n",
            "--------------------------------------------------------------------------------\n",
            "row_id \n",
            "       n  missing distinct     Info     Mean      Gmd      .05      .10 \n",
            "   46520        0    46520        1    23260    15507     2327     4653 \n",
            "     .25      .50      .75      .90      .95 \n",
            "   11631    23260    34890    41868    44194 \n",
            "\n",
            "lowest :     1     2     3     4     5, highest: 46516 46517 46518 46519 46520\n",
            "--------------------------------------------------------------------------------\n",
            "subject_id \n",
            "       n  missing distinct     Info     Mean      Gmd      .05      .10 \n",
            "   46520        0    46520        1    34426    31040     2458     4910 \n",
            "     .25      .50      .75      .90      .95 \n",
            "   12287    24650    55478    82100    91062 \n",
            "\n",
            "lowest :     2     3     4     5     6, highest: 99985 99991 99992 99995 99999\n",
            "--------------------------------------------------------------------------------\n",
            "gender \n",
            "       n  missing distinct \n",
            "   46520        0        2 \n",
            "                      \n",
            "Value          F     M\n",
            "Frequency  20399 26121\n",
            "Proportion 0.438 0.562\n",
            "--------------------------------------------------------------------------------\n",
            "dob \n",
            "       n  missing distinct \n",
            "   46520        0    32540 \n",
            "\n",
            "lowest : 1800-07-02 00:00:00 1800-07-16 00:00:00 1800-07-18 00:00:00 1800-08-19 00:00:00 1800-08-20 00:00:00\n",
            "highest: 2201-06-25 00:00:00 2201-06-29 00:00:00 2201-07-16 00:00:00 2201-07-17 00:00:00 2201-07-24 00:00:00\n",
            "--------------------------------------------------------------------------------\n",
            "dod \n",
            "       n  missing distinct \n",
            "   15759    30761    12911 \n",
            "\n",
            "lowest : 2100-06-19 00:00:00 2100-07-21 00:00:00 2100-08-19 00:00:00 2100-08-30 00:00:00 2100-09-03 00:00:00\n",
            "highest: 2209-02-06 00:00:00 2209-05-24 00:00:00 2210-03-26 00:00:00 2210-12-03 00:00:00 2211-06-10 00:00:00\n",
            "--------------------------------------------------------------------------------\n",
            "dod_hosp \n",
            "       n  missing distinct \n",
            "    9974    36546     8747 \n",
            "\n",
            "lowest : 2100-06-19 00:00:00 2100-07-21 00:00:00 2100-08-19 00:00:00 2100-08-30 00:00:00 2100-09-03 00:00:00\n",
            "highest: 2208-02-07 00:00:00 2208-10-19 00:00:00 2208-10-29 00:00:00 2208-12-21 00:00:00 2209-01-08 00:00:00\n",
            "--------------------------------------------------------------------------------\n",
            "dod_ssn \n",
            "       n  missing distinct \n",
            "   13378    33142    11301 \n",
            "\n",
            "lowest : 2100-06-19 00:00:00 2100-08-19 00:00:00 2100-09-03 00:00:00 2100-09-07 00:00:00 2100-09-11 00:00:00\n",
            "highest: 2209-02-06 00:00:00 2209-05-24 00:00:00 2210-03-26 00:00:00 2210-12-03 00:00:00 2211-06-10 00:00:00\n",
            "--------------------------------------------------------------------------------\n",
            "expire_flag \n",
            "       n  missing distinct     Info      Sum     Mean      Gmd \n",
            "   46520        0        2    0.672    15759   0.3388    0.448 \n",
            "\n",
            "--------------------------------------------------------------------------------\n"
          ]
        }
      ]
    },
    {
      "cell_type": "markdown",
      "source": [
        "There are 46520 distinct subject IDs same as indicated in the [documentation](https://mimic.mit.edu/docs/iii/tables/patients/). The date of birth in year 1800 seems to be a result of date shifting for patiets older than 89 years old. The date of death was missing from 30,761 patients, meaning that they were alive until the end of data collection. I will take the `dod` column as the main source of date of death, as it is a combination of `dod_hosp` and `dod_ssn`."
      ],
      "metadata": {
        "id": "rHlwTqrx4FLo"
      }
    },
    {
      "cell_type": "markdown",
      "source": [
        "As indicated [here](https://physionet.org/content/mimiciii/1.4/), dates in the dataset were all shifted, resulting in hospital stays occurring between years 2100 and 2200. However, the maximum date of birth and date of death seem to be over 2200, which need to be explored."
      ],
      "metadata": {
        "id": "U07yQlHr5k0k"
      }
    },
    {
      "cell_type": "code",
      "source": [
        "%%R\n",
        "\n",
        "as.Date(patients$dob[1])"
      ],
      "metadata": {
        "id": "99M8YUHT6Wlz",
        "outputId": "a9550100-703c-4695-abe0-316602cd5b9a",
        "colab": {
          "base_uri": "https://localhost:8080/"
        }
      },
      "execution_count": 8,
      "outputs": [
        {
          "output_type": "stream",
          "name": "stdout",
          "text": [
            "[1] \"2075-03-13\"\n"
          ]
        }
      ]
    },
    {
      "cell_type": "code",
      "source": [
        "%%R\n",
        "\n",
        "# Create a new variable indicating whether Variable A is blank or not\n",
        "patients$dod_missing <- ifelse(is.na(patients$dod), \"missing\", \"not missing\")\n",
        "\n",
        "# Tabulate Variable A blank/not blank vs. Variable B\n",
        "table(patients$dod_missing, patients$expire_flag)"
      ],
      "metadata": {
        "id": "BNmrQD3Rl0Ye",
        "outputId": "16ae89c6-5408-4a0e-9d0d-9585079a2497",
        "colab": {
          "base_uri": "https://localhost:8080/"
        }
      },
      "execution_count": 10,
      "outputs": [
        {
          "output_type": "stream",
          "name": "stdout",
          "text": [
            "             \n",
            "                  0     1\n",
            "  missing     30761     0\n",
            "  not missing     0 15759\n"
          ]
        }
      ]
    },
    {
      "cell_type": "markdown",
      "source": [],
      "metadata": {
        "id": "OFjQD4TEb0NK"
      }
    }
  ]
}